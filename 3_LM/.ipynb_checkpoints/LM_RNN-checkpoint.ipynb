{
 "cells": [
  {
   "cell_type": "markdown",
   "id": "86e85c61",
   "metadata": {},
   "source": []
  },
  {
   "cell_type": "markdown",
   "id": "5e58e87c",
   "metadata": {},
   "source": []
  },
  {
   "cell_type": "markdown",
   "id": "2347e513",
   "metadata": {},
   "source": []
  },
  {
   "cell_type": "markdown",
   "id": "3a86320b",
   "metadata": {},
   "source": []
  },
  {
   "cell_type": "markdown",
   "id": "8ad9338e",
   "metadata": {},
   "source": []
  },
  {
   "cell_type": "markdown",
   "id": "7da0f140",
   "metadata": {},
   "source": []
  },
  {
   "cell_type": "markdown",
   "id": "ba1c0a80",
   "metadata": {},
   "source": []
  },
  {
   "cell_type": "markdown",
   "id": "205f0c8f",
   "metadata": {},
   "source": []
  },
  {
   "cell_type": "markdown",
   "id": "ec02a62f",
   "metadata": {},
   "source": []
  },
  {
   "cell_type": "markdown",
   "id": "472ce22f",
   "metadata": {},
   "source": []
  }
 ],
 "metadata": {
  "kernelspec": {
   "display_name": "Python 3 (ipykernel)",
   "language": "python",
   "name": "python3"
  },
  "language_info": {
   "codemirror_mode": {
    "name": "ipython",
    "version": 3
   },
   "file_extension": ".py",
   "mimetype": "text/x-python",
   "name": "python",
   "nbconvert_exporter": "python",
   "pygments_lexer": "ipython3",
   "version": "3.10.13"
  }
 },
 "nbformat": 4,
 "nbformat_minor": 5
}
