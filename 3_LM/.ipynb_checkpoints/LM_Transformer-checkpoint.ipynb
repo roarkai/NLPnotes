{
 "cells": [
  {
   "cell_type": "markdown",
   "id": "62644ce5",
   "metadata": {},
   "source": []
  },
  {
   "cell_type": "markdown",
   "id": "610ff3fb",
   "metadata": {},
   "source": []
  },
  {
   "cell_type": "markdown",
   "id": "f50cc506",
   "metadata": {},
   "source": []
  },
  {
   "cell_type": "markdown",
   "id": "32436cca",
   "metadata": {},
   "source": []
  },
  {
   "cell_type": "markdown",
   "id": "2bcb3862",
   "metadata": {},
   "source": []
  },
  {
   "cell_type": "markdown",
   "id": "caf1b061",
   "metadata": {},
   "source": []
  },
  {
   "cell_type": "markdown",
   "id": "f11b5f7e",
   "metadata": {},
   "source": []
  },
  {
   "cell_type": "markdown",
   "id": "c4ea2497",
   "metadata": {},
   "source": []
  },
  {
   "cell_type": "markdown",
   "id": "83ea7f40",
   "metadata": {},
   "source": []
  },
  {
   "cell_type": "markdown",
   "id": "4be84ef6",
   "metadata": {},
   "source": []
  },
  {
   "cell_type": "markdown",
   "id": "c20b35db",
   "metadata": {},
   "source": []
  }
 ],
 "metadata": {
  "kernelspec": {
   "display_name": "Python 3 (ipykernel)",
   "language": "python",
   "name": "python3"
  },
  "language_info": {
   "codemirror_mode": {
    "name": "ipython",
    "version": 3
   },
   "file_extension": ".py",
   "mimetype": "text/x-python",
   "name": "python",
   "nbconvert_exporter": "python",
   "pygments_lexer": "ipython3",
   "version": "3.10.13"
  }
 },
 "nbformat": 4,
 "nbformat_minor": 5
}
