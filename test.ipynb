{
 "cells": [
  {
   "cell_type": "markdown",
   "id": "aab85e89",
   "metadata": {},
   "source": [
    "# word vector"
   ]
  },
  {
   "cell_type": "markdown",
   "id": "534a6568",
   "metadata": {},
   "source": [
    "## I. representation learning\n",
    "1. representation learning \\\n",
    "word vector是representation learning的一种。通过self-supervised方法来学习inputs的representation，而不是手动通过feature engineering来创建representation of inputs。"
   ]
  },
  {
   "cell_type": "markdown",
   "id": "96f11640",
   "metadata": {
    "ExecuteTime": {
     "end_time": "2023-12-15T01:53:33.807363Z",
     "start_time": "2023-12-15T01:53:33.795578Z"
    }
   },
   "source": [
    "2. model of word meaning: 一个好的model of word meaning应该可以较好的表达词汇的含义在语义空间的分布。比如能够表达：\\\n",
    "① 近义词、反义词。 \\\n",
    "② 词语的感情色彩：褒义和贬义 \\\n",
    "③ 同属于一簇的词汇（如：buy，sell，pay都是购物场景的词汇；cat，dog都是动物）\\\n",
    "更一般地说，一个好的model of word meaning应该有助于解决meaning-related task。"
   ]
  },
  {
   "cell_type": "markdown",
   "id": "18ba7119",
   "metadata": {},
   "source": [
    "3. lexical semantics（词汇语义） \\\n",
    "⑴ lemma和wordform：lemma是词元、词根，wordform是用词根生成的具体的词形。每个lemma有多种含义（word sense）\\\n",
    "⑵ synonyms同义词: \\\n",
    "① synonym between word senses：指1个word的1种word sense与另一个word的1种word sense相同。这是可能发生的。\\\n",
    "② synonym between words：指两个word含义相同可以互相替代。<font color=red>但实际上没有真正的synonym between words，water和$H_2O$指同样的东西，但使用场景不同。</font> \\\n",
    "<font color=green>**在representation learning中通常关注的是word similarity**：在word sense的层面建模的话，同一个word有不同的representation，实际任务中很难处理。如果改在word层面建模，因为没有真正的word synonym，关注synonym没有意义，所以关注word similarity是更符合word真实情况的方式。</font>\\\n",
    "⑶ word relatedness: 词与词之间的关系不止similarity。还有很多其他关系，如：\\\n",
    "① sematic field：一种典型的词之间的relatedness是<font color=blue>**词语有相同的sematic field。**</font>比如：waiter,menu,plate,food, chef都属于sematic field of restaurant，而且这些词本身的词义没有similarity。\\\n",
    "② sematic frame：一组含有特定事件（event）信息的词，不同的词在事件中的角色不同。比如，以transaction这个event为例，会有seller, buyer, pay, money, goods等角色，而不同的words会承担这些角色。如果representation可以表达出这部分内容的话，就能识别出Bob bought a desk from Jim. Jim sold his desk to Bob.这两句话含义相同。\\\n",
    "③ connotation: 语言中的情绪，包括：emotion, sentiment, evaluation, or opinion. \\\n",
    "④ 其他，反义词、上义词、下义词"
   ]
  },
  {
   "cell_type": "markdown",
   "id": "85f9d1ae",
   "metadata": {},
   "source": [
    "4. vector sematics \\\n",
    "⑴ 含义：指的是用vector表示word，每个word是多维语义空间中的一个点。这个语义空间是利用语料中的word disrtibution信息得到的。 \\\n",
    "⑵ 优点：可以用无监督学习自动从语料中获得vector sematic \\\n",
    "⑶ 方法：两种最基础的方法是tf-idf和ppmi"
   ]
  },
  {
   "cell_type": "markdown",
   "id": "ac5ef1cc",
   "metadata": {},
   "source": [
    "## II. co-occurrence matrix"
   ]
  },
  {
   "cell_type": "markdown",
   "id": "220abefe",
   "metadata": {},
   "source": []
  },
  {
   "cell_type": "markdown",
   "id": "70b7f129",
   "metadata": {},
   "source": []
  },
  {
   "cell_type": "markdown",
   "id": "4348e274",
   "metadata": {},
   "source": []
  },
  {
   "cell_type": "markdown",
   "id": "5949a170",
   "metadata": {},
   "source": []
  }
 ],
 "metadata": {
  "kernelspec": {
   "display_name": "Python 3 (ipykernel)",
   "language": "python",
   "name": "python3"
  },
  "language_info": {
   "codemirror_mode": {
    "name": "ipython",
    "version": 3
   },
   "file_extension": ".py",
   "mimetype": "text/x-python",
   "name": "python",
   "nbconvert_exporter": "python",
   "pygments_lexer": "ipython3",
   "version": "3.10.12"
  }
 },
 "nbformat": 4,
 "nbformat_minor": 5
}
