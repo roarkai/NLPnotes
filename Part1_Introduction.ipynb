{
 "cells": [
  {
   "cell_type": "markdown",
   "id": "3257d1cf",
   "metadata": {},
   "source": [
    "# Part I: Introduction"
   ]
  },
  {
   "cell_type": "markdown",
   "id": "1898a8f9",
   "metadata": {},
   "source": [
    "## 1. Generative vs. Discriminative Models\n",
    "**<font color=orange>Generative model</font>:** 计算P(X, Y)\\\n",
    "以文本分类为例，生成模型的目标是求解：$\\hat{y}=\\underset{\\tilde{y}}{argmax}P(X, \\tilde{y})$\n",
    "\n",
    "**<font color=orange>Discriminative model</font>:** 计算P(Y|X) \\\n",
    "以文本分类为例，判别模型的目标是求解：$\\hat{y}=\\underset{\\tilde{y}}{argmax}P(\\tilde{y}|X)$\n",
    "\n"
   ]
  },
  {
   "cell_type": "code",
   "execution_count": null,
   "id": "5141eaec",
   "metadata": {},
   "outputs": [],
   "source": []
  }
 ],
 "metadata": {
  "kernelspec": {
   "display_name": "Python 3 (ipykernel)",
   "language": "python",
   "name": "python3"
  },
  "language_info": {
   "codemirror_mode": {
    "name": "ipython",
    "version": 3
   },
   "file_extension": ".py",
   "mimetype": "text/x-python",
   "name": "python",
   "nbconvert_exporter": "python",
   "pygments_lexer": "ipython3",
   "version": "3.10.12"
  }
 },
 "nbformat": 4,
 "nbformat_minor": 5
}
